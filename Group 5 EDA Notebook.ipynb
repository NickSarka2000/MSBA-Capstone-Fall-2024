{
 "cells": [
  {
   "cell_type": "markdown",
   "metadata": {},
   "source": [
    "# Capstone Project Exploratory Data Analysis Notebook:\n",
    "**Authors: **"
   ]
  },
  {
   "cell_type": "markdown",
   "metadata": {},
   "source": [
    "# Table of Contents:\n",
    "- [Introduction](#introduction:)\n",
    "- [Business Problem Statement](#busines-problem-statement)"
   ]
  },
  {
   "cell_type": "markdown",
   "metadata": {},
   "source": [
    "# Introduction:\n",
    "The purpose of this EDA notebook is to explore and analyze data related to unplanned maintenance events at Swire Coca-Cola's production plants. This analysis aims to identify patterns and key factors contributing to machine breakdowns, with a particular focus on understanding the frequency of failures, time between breakdowns, and the effectiveness of past maintenance activities.\n",
    "\n",
    "By examining the relationships between variables such as EQUIPMENT_ID, ACTUAL_WORK_IN_MINUTES, and MAINTENANCE_ACTIVITY_TYPE, this notebook will lay the groundwork for developing a predictive model to prevent unplanned downtime. The insights gained here will help to guide feature selection and prepare the data for future modeling efforts to reduce costly production losses."
   ]
  },
  {
   "cell_type": "markdown",
   "metadata": {},
   "source": [
    "# Busines Problem Statement:\n",
    "Swire Coca-Cola has six production plants to meet the demand of 192 million cases of various beverages from 13 different states. These plants are currently only able to meet 94.4% of the demand. One of the reasons these plants fall short of meeting the total product demand is that they are plagued with unplanned downtime. This downtime is caused by various failure modes like maintenance, mechanical failure, general wear and tear, etc. \n",
    " \n",
    "Extensive repairs result in lengthy downtimes that generate work orders in the IWC system.  The long lead times caused by these work orders cost Swire Coca-Cola $60 million annually in production losses.  \n",
    " \n",
    "The purpose of this project is to create a predictive model to identify machines at risk of failure to prevent downtime and optimize Swire Coca-Cola's plant machine maintenance."
   ]
  },
  {
   "cell_type": "code",
   "execution_count": null,
   "metadata": {},
   "outputs": [],
   "source": []
  }
 ],
 "metadata": {
  "kernelspec": {
   "display_name": "Python 3",
   "language": "python",
   "name": "python3"
  },
  "language_info": {
   "name": "python",
   "version": "3.12.6"
  }
 },
 "nbformat": 4,
 "nbformat_minor": 2
}
